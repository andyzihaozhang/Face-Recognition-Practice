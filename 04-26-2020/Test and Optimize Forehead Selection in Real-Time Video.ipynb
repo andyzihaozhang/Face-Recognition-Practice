{
 "cells": [
  {
   "cell_type": "markdown",
   "metadata": {},
   "source": [
    "## 目标1"
   ]
  },
  {
   "cell_type": "markdown",
   "metadata": {},
   "source": [
    "实现视频实时人脸检测以及额头区域绘制"
   ]
  },
  {
   "cell_type": "markdown",
   "metadata": {},
   "source": [
    "## 方法（代码）"
   ]
  },
  {
   "cell_type": "markdown",
   "metadata": {},
   "source": [
    "### 5点面部特征"
   ]
  },
  {
   "cell_type": "markdown",
   "metadata": {},
   "source": [
    "Code: [forehead_detector_5_point.py](https://github.com/andyzihaozhang/Face-Recognition-Practice/blob/master/04-26-2020/forehead_detector_5_point.py)"
   ]
  },
  {
   "cell_type": "markdown",
   "metadata": {},
   "source": [
    "### 68点面部特征"
   ]
  },
  {
   "cell_type": "markdown",
   "metadata": {},
   "source": [
    "Code: [forehead_detector_68_point.py](https://github.com/andyzihaozhang/Face-Recognition-Practice/blob/master/04-26-2020/forehead_detector_68_point.py)"
   ]
  },
  {
   "cell_type": "markdown",
   "metadata": {
    "heading_collapsed": true
   },
   "source": [
    "## 结果与思考"
   ]
  },
  {
   "cell_type": "markdown",
   "metadata": {
    "hidden": true
   },
   "source": [
    "|              | HOG, 5 point | HOG, 68 point |\n",
    "|--------------|:------------:|:-------------:|\n",
    "| Memory Size  |    9.2 MB    |    99.7 MB    |\n",
    "| Max Distance |  ~ 2 meters  |  ~ 2 meters   |\n",
    "| Max Angle    | ~ 45 degrees | ~ 45 degrees  |\n",
    "| FPS          |    23 fps    |    22 fps     |"
   ]
  },
  {
   "cell_type": "markdown",
   "metadata": {
    "hidden": true
   },
   "source": [
    "1. 5点面部特征模型占用硬盘内存相差有10倍，5点模型在内存容量较小的设备上有明显优势。\n",
    "2. 由于使用的面部识别模型同为HOG, 所有在最远识别距离和最大识别角度上没有差别。CNN模型由于对算力要求过高，在测试过程中由于出现明显卡顿（低帧率）被排除。\n",
    "3. 在测试帧率的时候，使用了每5帧检测一次的方法，使得帧率由原本的每秒9-10帧提高到了每秒23帧。在测试过程中，在目标没有快速移动的前提下，每5帧检测一次并没有使面部和额头的区域框发生显著的滞后。同时，5点和68点面部特征模型在运行效率上没有显著差别。\n",
    "4. 由于5点面部特征模型只提供了左眼两端、右眼两端和鼻尖坐标，故计算时适用了经验公式来估算额头区域，需要后期更多资料形成眼鼻位置与额头区域的准确关系。"
   ]
  },
  {
   "cell_type": "markdown",
   "metadata": {},
   "source": [
    "## 目标2"
   ]
  },
  {
   "cell_type": "markdown",
   "metadata": {},
   "source": [
    "寻找人脸识别运行时间/准确率比dlib默认HOG更快/高的算法或库"
   ]
  },
  {
   "cell_type": "markdown",
   "metadata": {},
   "source": [
    "## 方法（代码）"
   ]
  },
  {
   "cell_type": "markdown",
   "metadata": {},
   "source": [
    "### Ultra Light"
   ]
  },
  {
   "cell_type": "markdown",
   "metadata": {},
   "source": [
    "Reference: [Real time face recognition with CPU](https://towardsdatascience.com/real-time-face-recognition-with-cpu-983d35cc3ec5)"
   ]
  },
  {
   "cell_type": "markdown",
   "metadata": {},
   "source": [
    "Code: [forehead_detector_ultra_light.py](https://github.com/andyzihaozhang/Face-Recognition-Practice/blob/master/04-26-2020/forehead_detector_ultra_light.py)"
   ]
  },
  {
   "cell_type": "markdown",
   "metadata": {},
   "source": [
    "## 结果与思考"
   ]
  },
  {
   "cell_type": "markdown",
   "metadata": {},
   "source": [
    "1. Ultra Light模型运行的帧率有了明显提升，在不使用每5帧检测一次的方法时，帧率已经达到每秒14帧，相信在加入每n秒检测一次之后可以稳定输出流畅的视频。\n",
    "2. 与此同时，Ultra Light模型对于90度侧脸或距离摄像头4米时，依然保持较高的识别率，在这方面远优于HOG模型。\n",
    "3. 接下来还需要进行多人脸（10+）的测试以观测在多人脸时，HOG和Ultra Light的检测速度。\n",
    "4. 依据当前测试，在无口罩遮挡、普通RGB图像、实时视频、使用低内存、低算力设备进行人脸识别时，使用Ultra Light确定人脸位置和5点人脸特征模型确定额头位置，可能是比较好的解决方案。"
   ]
  }
 ],
 "metadata": {
  "kernelspec": {
   "display_name": "Python 3",
   "language": "python",
   "name": "python3"
  },
  "language_info": {
   "codemirror_mode": {
    "name": "ipython",
    "version": 3
   },
   "file_extension": ".py",
   "mimetype": "text/x-python",
   "name": "python",
   "nbconvert_exporter": "python",
   "pygments_lexer": "ipython3",
   "version": "3.7.4"
  }
 },
 "nbformat": 4,
 "nbformat_minor": 2
}
