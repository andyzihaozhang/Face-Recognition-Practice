{
 "cells": [
  {
   "cell_type": "markdown",
   "metadata": {},
   "source": [
    "## InsightFace"
   ]
  },
  {
   "cell_type": "markdown",
   "metadata": {},
   "source": [
    "> Nevertheless, in this paper we refer to a broader definition of face localisation which includes face detection, face alignment, pixelwise face parsing and 3D dense correspondence regression.\n",
    "\n",
    "在这里作者指出他们使用了更广义的人脸定位，包括人脸识别，人脸对齐，像素级人脸捕捉。结合文中图1可以大概得知，InsightFace是一个多任务网络。\n",
    "\n",
    "在定义loss function的部分，首先是多任务损失，由人脸分类损失、人脸选框回归损失、人脸特征回归损失和密集回归损失（dense regression loss）。这里最后一个损失函数将由之前任务获得的人脸和原人脸进行像素级的比较。作者通过设置$\\lambda1, \\lambda2, \\lambda3$为0.25, 0.1, 0.01来确立更优的人脸选框，人脸特征有比像素级人脸比较有更高的重要性。"
   ]
  },
  {
   "cell_type": "code",
   "execution_count": null,
   "metadata": {},
   "outputs": [],
   "source": []
  }
 ],
 "metadata": {
  "kernelspec": {
   "display_name": "Python 3",
   "language": "python",
   "name": "python3"
  },
  "language_info": {
   "codemirror_mode": {
    "name": "ipython",
    "version": 3
   },
   "file_extension": ".py",
   "mimetype": "text/x-python",
   "name": "python",
   "nbconvert_exporter": "python",
   "pygments_lexer": "ipython3",
   "version": "3.7.4"
  }
 },
 "nbformat": 4,
 "nbformat_minor": 2
}
