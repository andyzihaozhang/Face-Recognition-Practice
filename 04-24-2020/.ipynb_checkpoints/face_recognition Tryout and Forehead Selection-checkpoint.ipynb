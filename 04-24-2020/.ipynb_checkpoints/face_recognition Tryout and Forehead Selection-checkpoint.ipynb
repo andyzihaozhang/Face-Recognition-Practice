{
 "cells": [
  {
   "cell_type": "markdown",
   "metadata": {},
   "source": [
    "## 目标"
   ]
  },
  {
   "cell_type": "markdown",
   "metadata": {},
   "source": [
    "尝试使用face_recognition库已经训练好的面部识别模型，来识别在网络上获取的单人或多人带有不同特征的图片，并选取额头部分。"
   ]
  },
  {
   "cell_type": "markdown",
   "metadata": {},
   "source": [
    "## 方法"
   ]
  },
  {
   "cell_type": "markdown",
   "metadata": {},
   "source": [
    "* 调用face_recognition的load_image_file, face_locations, face_landmarks\n",
    "* 通过返回的上下左右四个值画出人脸位置的红框\n",
    "* 通过返回的68点坐标以及线方程连接每点画出人脸线条\n",
    "* 估算额头区域的四点并选择该区域：\n",
    "    1. 左下角：取左眉第一点的x坐标和第三点的y坐标\n",
    "    2. 右下角：取右眉最后一点的x坐标和第三点的y坐标\n",
    "    3. 眉心： 取左下角右下角x/y坐标平均值\n",
    "    4. 通过眉心与鼻梁最后一点的距离计算四边形的高\n",
    "    5. 计算左上角和右上角\n",
    "    6. 用多边形方程画出代表额头区域的黄框（如果人脸有倾斜需要绘制旋转过的长方形，故使用多边形方程）"
   ]
  },
  {
   "cell_type": "markdown",
   "metadata": {},
   "source": [
    "## 结果"
   ]
  },
  {
   "cell_type": "markdown",
   "metadata": {},
   "source": [
    "#### 单人，不戴眼镜"
   ]
  },
  {
   "cell_type": "markdown",
   "metadata": {},
   "source": [
    "<img src=\"man_no_glasses.png\" align=\"left\" style=\"width:200px;height:300px\"/>"
   ]
  },
  {
   "cell_type": "markdown",
   "metadata": {},
   "source": [
    "#### 单人，戴眼镜"
   ]
  },
  {
   "cell_type": "markdown",
   "metadata": {},
   "source": [
    "<img src=\"man_with_glasses.png\" align=\"left\" style=\"width:300px;height:300px\"/>"
   ]
  },
  {
   "cell_type": "markdown",
   "metadata": {},
   "source": [
    "#### 单人，遮挡口部"
   ]
  },
  {
   "cell_type": "markdown",
   "metadata": {},
   "source": [
    "<img src=\"woman_no_mouth.png\" align=\"left\" style=\"width:450px;height:300px\"/>"
   ]
  },
  {
   "cell_type": "markdown",
   "metadata": {},
   "source": [
    "#### 两人，侧脸和戴眼镜"
   ]
  },
  {
   "cell_type": "markdown",
   "metadata": {},
   "source": [
    "<img src=\"two_men.png\" align=\"left\" style=\"width:600px;height:300px\"/>"
   ]
  },
  {
   "cell_type": "markdown",
   "metadata": {},
   "source": [
    "#### 五人，歪头"
   ]
  },
  {
   "cell_type": "markdown",
   "metadata": {},
   "source": [
    "<img src=\"five_men.png\" align=\"left\" style=\"width:537px;height:300px\"/>"
   ]
  },
  {
   "cell_type": "markdown",
   "metadata": {},
   "source": [
    "## 思考"
   ]
  },
  {
   "cell_type": "markdown",
   "metadata": {},
   "source": [
    "1. 正对的脸，无论是戴眼镜与否还是遮挡口部，都不影响模型的预测，甚至在遮挡口部时还能预测遮挡部分的位置，相对应的额头选择也较为精准。\n",
    "2. 当侧脸超过45度时（如图4），脸部线条勾画以及额头区域选择变得不准确。在实际操作中可否要求被测试者正对摄像头？\n",
    "3. 做表情时，眉毛的位置会移动，影响额头选择区域。同时，加入口罩会遮挡鼻梁的情况后，涉及鼻梁的点也会有所偏差，同样影响额头选择区域。所以，实际操作中应该设计或选用可以返回更多面部特征点的模型。"
   ]
  }
 ],
 "metadata": {
  "kernelspec": {
   "display_name": "Python 3",
   "language": "python",
   "name": "python3"
  },
  "language_info": {
   "codemirror_mode": {
    "name": "ipython",
    "version": 3
   },
   "file_extension": ".py",
   "mimetype": "text/x-python",
   "name": "python",
   "nbconvert_exporter": "python",
   "pygments_lexer": "ipython3",
   "version": "3.7.4"
  }
 },
 "nbformat": 4,
 "nbformat_minor": 2
}
