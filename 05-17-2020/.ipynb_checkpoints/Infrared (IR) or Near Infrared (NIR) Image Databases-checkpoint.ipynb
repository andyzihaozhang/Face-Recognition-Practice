{
 "cells": [
  {
   "cell_type": "markdown",
   "metadata": {},
   "source": [
    "## Face Image"
   ]
  },
  {
   "cell_type": "markdown",
   "metadata": {},
   "source": [
    "### [Near Infrared Face Database](https://sites.google.com/site/nirdatabase/introduction)"
   ]
  },
  {
   "cell_type": "markdown",
   "metadata": {},
   "source": [
    "这个近红外人脸**视频**数据集包含了多种亮度，遮挡，人脸的朝向和面部表情。数据集中文件格式为avi，每帧尺寸为640\\*480，帧率为30 fps。\n",
    "\n",
    "简介：\n",
    "* 数据集大小：60个片段，每个片段为1人\n",
    "* 性别：40个男性片段，20个女性片段\n",
    "* 人口统计：印度各个地方\n",
    "* 有戴眼镜片段"
   ]
  },
  {
   "cell_type": "markdown",
   "metadata": {},
   "source": [
    "10秒视频片段（完整视频见sample1.avi）\n",
    "![](sample1.gif)"
   ]
  },
  {
   "cell_type": "markdown",
   "metadata": {},
   "source": [
    "优点：\n",
    "* 视频格式\n",
    "* 亚洲面孔\n",
    "* 情景多样\n",
    "\n",
    "缺点：\n",
    "* 近红外而非热成像\n",
    "* 人脸位置单一\n",
    "* 人脸面积占比较大，缺少身体其他部位\n",
    "* 数据量较小"
   ]
  },
  {
   "cell_type": "markdown",
   "metadata": {},
   "source": [
    "### [Thermal-Visible Registration of Human Silhouettes](https://www.polymtl.ca/litiv/codes-et-bases-de-donnees)"
   ]
  },
  {
   "cell_type": "markdown",
   "metadata": {},
   "source": [
    "这个红外人体**视频**数据集在录影棚里拍摄了模拟行人日常走动的视频。数据集中文件格式为avi，每帧尺寸为480\\*360，共4400帧。\n",
    "\n",
    "数据集中含有人体的groundtruth，每个视频中均有1-5人出镜。"
   ]
  },
  {
   "cell_type": "markdown",
   "metadata": {},
   "source": [
    "10秒视频片段（完整视频见sample2.avi）\n",
    "![](sample2.gif)"
   ]
  },
  {
   "cell_type": "markdown",
   "metadata": {},
   "source": [
    "优点：\n",
    "* 视频格式\n",
    "* 单人、多人出镜\n",
    "* 人脸大小、位置变化\n",
    "* 情景多样\n",
    "* 对应ground truth\n",
    "\n",
    "缺点：\n",
    "* 背景固定\n",
    "* 每帧尺寸小于VGA标准尺寸（640\\*480）\n",
    "* 样本数量较小（4400帧，不确定算不算少）"
   ]
  },
  {
   "cell_type": "markdown",
   "metadata": {},
   "source": [
    "### [AAU VAP Trimodal People Segmentation Dataset](https://www.kaggle.com/aalborguniversity/trimodal-people-segmentation)"
   ]
  },
  {
   "cell_type": "markdown",
   "metadata": {},
   "source": [
    "这个红外人体图像数据集在3个场景拍摄了模拟行人走动/静态的图像。虽然数据集格式为jpg图片，但图片是连续的，所以也可以将图片按照一定帧率连续输出为视频。图像尺寸为640\\*480，共5724帧。\n",
    "\n",
    "数据集中有rgb图片，红外图片，深度图片。同时还有这三种图片的mask（如红外图片的mask就将人体轮廓分割出来，类似于ground truth）。"
   ]
  },
  {
   "cell_type": "markdown",
   "metadata": {},
   "source": [
    "RGB图片范例\n",
    "![](sample3_rgb.jpg)\n",
    "\n",
    "红外图片范例\n",
    "![](sample3_thermal.jpg)\n",
    "\n",
    "深度图片范例\n",
    "![](sample3_depth.png)\n",
    "\n",
    "红外mask图片范例\n",
    "![](sample3_mask.png)"
   ]
  },
  {
   "cell_type": "markdown",
   "metadata": {},
   "source": [
    "优点：\n",
    "* 每一帧有RGB，IR，Depth图像的对应，还分别有对应的mask\n",
    "* 连续的图像（约等于视频）\n",
    "* 三种场景，多人出镜，多种人体姿势\n",
    "* 多种脸部角度，大小和位置\n",
    "* 标准VGA尺寸（640\\*480）\n",
    "\n",
    "缺点：\n",
    "* 不是彩色的thermal图像"
   ]
  }
 ],
 "metadata": {
  "kernelspec": {
   "display_name": "Python 3",
   "language": "python",
   "name": "python3"
  },
  "language_info": {
   "codemirror_mode": {
    "name": "ipython",
    "version": 3
   },
   "file_extension": ".py",
   "mimetype": "text/x-python",
   "name": "python",
   "nbconvert_exporter": "python",
   "pygments_lexer": "ipython3",
   "version": "3.7.4"
  }
 },
 "nbformat": 4,
 "nbformat_minor": 2
}
