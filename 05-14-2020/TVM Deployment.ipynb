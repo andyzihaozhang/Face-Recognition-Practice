{
 "cells": [
  {
   "cell_type": "markdown",
   "metadata": {},
   "source": [
    "## 官方教程"
   ]
  },
  {
   "cell_type": "markdown",
   "metadata": {},
   "source": [
    "[教程链接](https://docs.tvm.ai/install/from_source.html#developers-get-source-from-github)"
   ]
  },
  {
   "cell_type": "markdown",
   "metadata": {},
   "source": [
    "注意事项：\n",
    "* 要安装LLVM，InsightFace用的是6.0.1，为了能更成功的测试他们的代码，我们最好也安装6.0/6.0.1版本。一定要一开始的时候装好在build，不然后面补装好像就build不进去了。\n",
    "* 倒数第二个section的Contrib library不要忘记安装，好多代码范例中都用到了tvm.contrib.xxxxx"
   ]
  },
  {
   "cell_type": "markdown",
   "metadata": {},
   "source": [
    "## 代码测试"
   ]
  },
  {
   "cell_type": "markdown",
   "metadata": {},
   "source": [
    "[官方编译案例](https://docs.tvm.ai/tutorials/index.html)"
   ]
  },
  {
   "cell_type": "markdown",
   "metadata": {},
   "source": [
    "* 这是官方的代码范例，里面有各个平台的教程，如TFLite，ONNX，Keras，MXNet等等。建议选择MXNet，因为InsightFace使用的就是MXNet，但选Keras也可以，MobileNet有[预训练的Keras模型](https://github.com/keras-team/keras-applications)。\n",
    "* 在每篇文章的最后可以直接下载所有案例中的代码，如果build正确的话，应该是可以完美跑的。当然，里面有可能有一些小的细节需要改动，比如target：如果你在使用CUDA的机器上跑，那就不用修改，但如果你在自己的电脑上跑，target可能就需要改成tvm.target.arm_cpu()或者tvm.target.intel_graphics()。我卡在这一步跑不下去了，所以一定要一开始就把llvm build进去啊！"
   ]
  },
  {
   "cell_type": "markdown",
   "metadata": {},
   "source": [
    "[InsightFace编译案例](https://github.com/deepinsight/insightface/wiki/Tutorial:-Deploy-Face-Recognition-Model-via-TVM#tips)"
   ]
  },
  {
   "cell_type": "markdown",
   "metadata": {},
   "source": [
    "如果我们最后使用InsightFace（MobileNet backbone）的话，这个编译案例就很有帮助，可以帮助我们进一步优化MobileNet的inference效率。"
   ]
  }
 ],
 "metadata": {
  "kernelspec": {
   "display_name": "Python 3",
   "language": "python",
   "name": "python3"
  },
  "language_info": {
   "codemirror_mode": {
    "name": "ipython",
    "version": 3
   },
   "file_extension": ".py",
   "mimetype": "text/x-python",
   "name": "python",
   "nbconvert_exporter": "python",
   "pygments_lexer": "ipython3",
   "version": "3.7.4"
  }
 },
 "nbformat": 4,
 "nbformat_minor": 2
}
